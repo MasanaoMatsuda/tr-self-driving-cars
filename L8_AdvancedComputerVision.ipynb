{
 "cells": [
  {
   "cell_type": "markdown",
   "metadata": {},
   "source": [
    "# Advanced Computer Vision\n",
    "How to map out the lane on an image of the road? \n",
    "##### Steps\n",
    " 1. Camera calibration\n",
    " 2. Distortion correction\n",
    " 3. Color/Gradient threshold\n",
    " 4. Perspective transform\n",
    " 5. Detect lane lines\n",
    " 6. Determine the lane curvature"
   ]
  },
  {
   "cell_type": "markdown",
   "metadata": {},
   "source": [
    "### Detail of pipeline steps\n",
    "**Camera Calibration**\n",
    "compute the camera calibration matrix & distortion coefficients (only once).\n",
    "\n",
    "**Distortion Correction**\n",
    "apply calibrated value each new frame.\n",
    "\n",
    "**Thresholding**\n",
    "To generate a binary image where the lane lines are clearly visible. Try out various combinations of color and gradient thresholds.\n",
    "\n",
    "**Perspective Transform**\n",
    "To identify four source points for prespective transform. In this case, can assume the road is a flat plane. This isn't strictly true, but it can serve as an approximation for this task.\n",
    "The easiest way to do this is to investigate an image where the lane lines are straight, and find four points lying along the lines that, after perspective transform, make the lines look straight and vertical from a bird's eye view perspective.\n",
    "\n",
    "Those same four source points will now work to transform any image (again, under the assumption that the road is flat and the camera perspective hasn't changed)."
   ]
  },
  {
   "cell_type": "markdown",
   "metadata": {},
   "source": [
    "## Finding the lines: Histogram Peaks\n",
    "Now I have a thresholded warped image and ready to map out the lane lines. There are many ways, but here's one example of how I might do it.\n",
    "\n",
    "### Line Finding Method: Peaks in a Histogram\n",
    "I need to decide explicitly which pixels are part of the lines and which belong to the left line and which belong to the right line. Plotting a histgram of where the binary activations occur across the image is one potential solution for this."
   ]
  },
  {
   "cell_type": "code",
   "execution_count": 1,
   "metadata": {},
   "outputs": [
    {
     "data": {
      "text/plain": [
       "<matplotlib.image.AxesImage at 0x1d0194e5390>"
      ]
     },
     "execution_count": 1,
     "metadata": {},
     "output_type": "execute_result"
    }
   ],
   "source": [
    "import numpy as np\n",
    "import cv2\n",
    "import matplotlib.pyplot as plt\n",
    "import matplotlib.image as mpimg\n",
    "\n",
    "img = mpimg.imread('images/warped-example.jpg')\n",
    "plt.imshow(img, cmap='gray')"
   ]
  },
  {
   "cell_type": "code",
   "execution_count": 2,
   "metadata": {},
   "outputs": [],
   "source": [
    "def hist(img):\n",
    "    bottom_half = img[img.shape[0]//2:, :]\n",
    "    histogram = np.sum(bottom_half, axis=0)\n",
    "    return histogram"
   ]
  },
  {
   "cell_type": "code",
   "execution_count": 3,
   "metadata": {},
   "outputs": [
    {
     "data": {
      "text/plain": [
       "[<matplotlib.lines.Line2D at 0x1d0195f1630>]"
      ]
     },
     "execution_count": 3,
     "metadata": {},
     "output_type": "execute_result"
    },
    {
     "data": {
      "image/png": "[encoded data removed]",
      "text/plain": [
       "<Figure size 432x288 with 1 Axes>"
      ]
     },
     "metadata": {},
     "output_type": "display_data"
    }
   ],
   "source": [
    "histogram = hist(img)\n",
    "plt.plot(histogram)"
   ]
  },
  {
   "cell_type": "markdown",
   "metadata": {},
   "source": [
    "## Finding the Lines: Sliding Window\n",
    "The two most prominent peaks in this histogram will be good indicators of the x-position of the base of the lane lines. From that point, I can use a sliding window, placed around the line centers, to find and follow the lines up to the top of the frame.\n",
    "\n",
    "### Split the histogram for the two lines\n",
    "The first step we'll take is to split the histogram into two sides, one for each lane line."
   ]
  },
  {
   "cell_type": "code",
   "execution_count": 4,
   "metadata": {},
   "outputs": [],
   "source": [
    "histogram = np.sum(img[img.shape[0]//2:], axis=0)# an output image to draw on and visualize the result\n",
    "out_img = np.dstack((img, img, img)) * 255\n",
    "\n",
    "midpoint = histogram.shape[0]//2\n",
    "leftx_base = np.argmax(histogram[:midpoint])\n",
    "rightx_base = np.argmax(histogram[midpoint:]) + midpoint"
   ]
  },
  {
   "cell_type": "markdown",
   "metadata": {},
   "source": [
    "### Set up windows and window hyperparameters\n",
    "Next step is to set a few hyperparameters related to our sliding windows, and set them up to iterate across the binary activations in the image."
   ]
  },
  {
   "cell_type": "code",
   "execution_count": 5,
   "metadata": {},
   "outputs": [],
   "source": [
    "# The number of sliding windows\n",
    "nwindows = 9\n",
    "# Set the width of the windows +/- margin\n",
    "margin = 100\n",
    "# Set minimum number of pixels found to recenter window\n",
    "minpix_thresh = 50\n",
    "\n",
    "w_height = img.shape[0]//nwindows\n",
    "\n",
    "# Identify the x and y positions of all nonzero pixels in the image\n",
    "nonzero = img.nonzero()\n",
    "nonzeroy = np.array(nonzero[0])\n",
    "nonzerox = np.array(nonzero[1])\n",
    "\n",
    "leftx_current = leftx_base\n",
    "rightx_current = rightx_base\n",
    "\n",
    "# empty lists to recieve left and right lane pixel indices\n",
    "left_lane_inds = []\n",
    "right_lane_inds = []"
   ]
  },
  {
   "cell_type": "markdown",
   "metadata": {},
   "source": [
    "### Iterate though nwindows to track curvature\n",
    "Now that I've set up what the windows look like and have a starting point. We'll want to loop for nwindows, with the given window sliding left or right if it finds the mean position of activated pixels within the window to have shifted."
   ]
  },
  {
   "cell_type": "code",
   "execution_count": 6,
   "metadata": {},
   "outputs": [],
   "source": [
    "for i in range(nwindows):\n",
    "    wy_low = img.shape[0] - (i+1) * w_height\n",
    "    wy_high = wy_low + w_height\n",
    "    \n",
    "    wx_left_low = leftx_current - margin\n",
    "    wx_left_high = leftx_current + margin\n",
    "    wx_right_low = rightx_current - margin\n",
    "    wx_right_high = rightx_current + margin\n",
    "    \n",
    "    cv2.rectangle(out_img, (wx_left_low, wy_low), (wx_left_high, wy_high), (0, 255, 0), 2)\n",
    "    cv2.rectangle(out_img, (wx_right_low, wy_low), (wx_right_high, wy_high), (0, 255, 0), 2)\n",
    "    \n",
    "    good_left_inds = ((nonzeroy >= wy_low) & (nonzeroy < wy_high) & (nonzerox >= wx_left_low) & (nonzerox < wx_left_high)).nonzero()[0]\n",
    "    good_right_inds = ((nonzeroy >= wy_low) & (nonzeroy < wy_high) & (nonzerox >= wx_right_low) & (nonzerox < wx_right_high)).nonzero()[0]\n",
    "    \n",
    "    left_lane_inds.append(good_left_inds)\n",
    "    right_lane_inds.append(good_right_inds)\n",
    "    \n",
    "    if len(good_left_inds) > minpix_thresh:\n",
    "        leftx_current = np.int(np.mean(nonzerox[good_left_inds]))\n",
    "    if len(good_right_inds) > minpix_thresh:\n",
    "        rightx_current = np.int(np.mean(nonzerox[good_right_inds]))"
   ]
  },
  {
   "cell_type": "markdown",
   "metadata": {},
   "source": [
    "### Fit a polynomial\n",
    "Now that I have found all pixels belonging to each line through the sliding window method, it's time to fit a polynomial to the line."
   ]
  },
  {
   "cell_type": "code",
   "execution_count": 7,
   "metadata": {},
   "outputs": [],
   "source": [
    "try:\n",
    "    left_lane_inds = np.concatenate(left_lane_inds)\n",
    "    right_lane_inds = np.concatenate(right_lane_inds)\n",
    "except ValueError:\n",
    "    pass\n",
    "\n",
    "leftx = nonzerox[left_lane_inds]\n",
    "lefty = nonzeroy[left_lane_inds]\n",
    "rightx = nonzerox[right_lane_inds]\n",
    "righty = nonzeroy[right_lane_inds]"
   ]
  },
  {
   "cell_type": "code",
   "execution_count": 8,
   "metadata": {},
   "outputs": [],
   "source": [
    "left_fit = np.polyfit(lefty, leftx, 2)\n",
    "right_fit = np.polyfit(righty, rightx, 2)\n",
    "\n",
    "ploty = np.linspace(0, img.shape[0]-1, img.shape[0])\n",
    "try:\n",
    "    left_fitx = left_fit[0] * ploty**2 + left_fit[1] * ploty + left_fit[2]\n",
    "    right_fitx = right_fit[0] * ploty**2 + right_fit[1] * ploty + right_fit[2]\n",
    "except TypeError:\n",
    "    print('The function failed to fit a line..')\n",
    "    left_fitx = 1 * ploty ** 2 + 1 * ploty\n",
    "    right_fitx = 1 * ploty ** 2 + 1 * ploty"
   ]
  },
  {
   "cell_type": "markdown",
   "metadata": {},
   "source": [
    "### Visualization"
   ]
  },
  {
   "cell_type": "code",
   "execution_count": 9,
   "metadata": {},
   "outputs": [
    {
     "data": {
      "text/plain": [
       "(720, 0)"
      ]
     },
     "execution_count": 9,
     "metadata": {},
     "output_type": "execute_result"
    },
    {
     "data": {
      "image/png": "[encoded data removed]",
      "text/plain": [
       "<Figure size 432x288 with 1 Axes>"
      ]
     },
     "metadata": {},
     "output_type": "display_data"
    }
   ],
   "source": [
    "out_img[lefty, leftx] = [255, 0, 0]\n",
    "out_img[righty, rightx] = [0, 0, 255]\n",
    "\n",
    "plt.imshow(out_img)\n",
    "plt.plot(left_fitx, ploty, color='yellow')\n",
    "plt.plot(right_fitx, ploty, color='yellow')\n",
    "plt.xlim(0, 1280)\n",
    "plt.ylim(720, 0)"
   ]
  },
  {
   "cell_type": "markdown",
   "metadata": {},
   "source": [
    "#### All I did above cells are packed into the functions at the cell bellow."
   ]
  },
  {
   "cell_type": "code",
   "execution_count": 10,
   "metadata": {},
   "outputs": [],
   "source": [
    "import numpy as np\n",
    "import matplotlib.image as mpimg\n",
    "import matplotlib.pyplot as plt\n",
    "import cv2\n",
    "\n",
    "\n",
    "def find_lane_pixels(binary_warped):\n",
    "    histogram = np.sum(binary_warped[binary_warped.shape[0]//2:,:], axis=0)\n",
    "    out_img = np.dstack((binary_warped, binary_warped, binary_warped)) * 255\n",
    "    \n",
    "    midpoint = histogram.shape[0]//2\n",
    "    leftx_base = np.argmax(histogram[:midpoint])\n",
    "    rightx_base = np.argmax(histogram[midpoint:]) + midpoint\n",
    "\n",
    "    # HYPERPARAMETERS\n",
    "    nwindows = 9\n",
    "    margin = 100\n",
    "    minpix_thresh = 50\n",
    "\n",
    "    window_height = binary_warped.shape[0]//nwindows\n",
    "    \n",
    "    nonzero = binary_warped.nonzero()\n",
    "    nonzeroy = np.array(nonzero[0])\n",
    "    nonzerox = np.array(nonzero[1])\n",
    "    \n",
    "    leftx_current = leftx_base\n",
    "    rightx_current = rightx_base\n",
    "\n",
    "    left_lane_inds = []\n",
    "    right_lane_inds = []\n",
    "\n",
    "    for window in range(nwindows):\n",
    "        win_y_low = binary_warped.shape[0] - (window+1)*window_height\n",
    "        win_y_high = binary_warped.shape[0] - window*window_height\n",
    "        \n",
    "        win_xleft_low = leftx_current - margin\n",
    "        win_xleft_high = leftx_current + margin\n",
    "        win_xright_low = rightx_current - margin\n",
    "        win_xright_high = rightx_current + margin\n",
    "        \n",
    "        cv2.rectangle(out_img,(win_xleft_low,win_y_low),\n",
    "        (win_xleft_high,win_y_high),(0,255,0), 2) \n",
    "        cv2.rectangle(out_img,(win_xright_low,win_y_low),\n",
    "        (win_xright_high,win_y_high),(0,255,0), 2) \n",
    "        \n",
    "        good_left_inds = ((nonzeroy >= win_y_low) & (nonzeroy < win_y_high) & \n",
    "        (nonzerox >= win_xleft_low) &  (nonzerox < win_xleft_high)).nonzero()[0]\n",
    "        good_right_inds = ((nonzeroy >= win_y_low) & (nonzeroy < win_y_high) & \n",
    "        (nonzerox >= win_xright_low) &  (nonzerox < win_xright_high)).nonzero()[0]\n",
    "        \n",
    "        left_lane_inds.append(good_left_inds)\n",
    "        right_lane_inds.append(good_right_inds)\n",
    "        \n",
    "        if len(good_left_inds) > minpix_thresh:\n",
    "            leftx_current = np.int(np.mean(nonzerox[good_left_inds]))\n",
    "        if len(good_right_inds) > minpix_thresh:        \n",
    "            rightx_current = np.int(np.mean(nonzerox[good_right_inds]))\n",
    "\n",
    "    try:\n",
    "        left_lane_inds = np.concatenate(left_lane_inds)\n",
    "        right_lane_inds = np.concatenate(right_lane_inds)\n",
    "    except ValueError:\n",
    "        # Avoids an error if the above is not implemented fully\n",
    "        pass\n",
    "\n",
    "    leftx = nonzerox[left_lane_inds]\n",
    "    lefty = nonzeroy[left_lane_inds] \n",
    "    rightx = nonzerox[right_lane_inds]\n",
    "    righty = nonzeroy[right_lane_inds]\n",
    "\n",
    "    return leftx, lefty, rightx, righty, out_img\n",
    "\n",
    "\n",
    "def fit_polynomial(binary_warped):\n",
    "    leftx, lefty, rightx, righty, out_img = find_lane_pixels(binary_warped)\n",
    "\n",
    "    left_fit = np.polyfit(lefty, leftx, 2)\n",
    "    right_fit = np.polyfit(righty, rightx, 2)\n",
    "\n",
    "    ploty = np.linspace(0, binary_warped.shape[0]-1, binary_warped.shape[0] )\n",
    "    try:\n",
    "        left_fitx = left_fit[0]*ploty**2 + left_fit[1]*ploty + left_fit[2]\n",
    "        right_fitx = right_fit[0]*ploty**2 + right_fit[1]*ploty + right_fit[2]\n",
    "    except TypeError:\n",
    "        # Avoids an error if `left` and `right_fit` are still none or incorrect\n",
    "        left_fitx = 1*ploty**2 + 1*ploty\n",
    "        right_fitx = 1*ploty**2 + 1*ploty\n",
    "\n",
    "    out_img[lefty, leftx] = [255, 0, 0]\n",
    "    out_img[righty, rightx] = [0, 0, 255]\n",
    "\n",
    "    plt.plot(left_fitx, ploty, color='yellow')\n",
    "    plt.plot(right_fitx, ploty, color='yellow')\n",
    "\n",
    "    return out_img"
   ]
  },
  {
   "cell_type": "code",
   "execution_count": 11,
   "metadata": {},
   "outputs": [
    {
     "data": {
      "text/plain": [
       "<matplotlib.image.AxesImage at 0x1d019bb0940>"
      ]
     },
     "execution_count": 11,
     "metadata": {},
     "output_type": "execute_result"
    },
    {
     "data": {
      "image/png": "[encoded data removed]",
      "text/plain": [
       "<Figure size 432x288 with 1 Axes>"
      ]
     },
     "metadata": {},
     "output_type": "display_data"
    }
   ],
   "source": [
    "binary_warped = mpimg.imread('images/warped-example.jpg')\n",
    "out_img = fit_polynomial(binary_warped)\n",
    "plt.imshow(out_img)"
   ]
  },
  {
   "cell_type": "markdown",
   "metadata": {},
   "source": [
    "## Finding the Lines: Search from Prior\n",
    "I've now built an algorithm that uses sliding windows to track the lane lines. However, using the full algorithm from before and starting fresh on every frame may seem inefficient, as the lane lines don't necessarily move a lot frame to frame.\n",
    "\n",
    "In the next frame of video I don't need to do a blind search again, but instead I can just search in a margin around the previous lane line position. So once I know where the lines are in one frame of video, I can do a highly targeted search for them in the next frame.\n",
    "\n",
    "And that region should help me track the lanes through sharp curves and tricky conditions. If I lose track of the lines, go bagk to my sliding windows search or other method to rediscover them. Let's walk through one way to do this."
   ]
  },
  {
   "cell_type": "code",
   "execution_count": null,
   "metadata": {},
   "outputs": [],
   "source": []
  },
  {
   "cell_type": "code",
   "execution_count": null,
   "metadata": {},
   "outputs": [],
   "source": []
  },
  {
   "cell_type": "markdown",
   "metadata": {},
   "source": [
    "## Measuring Curvature 1\n"
   ]
  },
  {
   "cell_type": "code",
   "execution_count": 12,
   "metadata": {},
   "outputs": [],
   "source": [
    "import numpy as np\n",
    "import matplotlib.pyplot as plt\n",
    "\n",
    "\n",
    "np.random.seed(0)\n",
    "# Generate some fake data to represent lane-line pixels\n",
    "ploty = np.linspace(0, 719, num=720)\n",
    "quadratic_coeff = 3e-4 # 0.0003\n",
    "\n",
    "# For each y position generage random x position within +/-50 pix of the line base position in each case\n",
    "# (x=200 for left, and x=900 for right)\n",
    "leftx = np.array([200 + y**2 * quadratic_coeff + np.random.randint(-50, high=51) for y in ploty])\n",
    "rightx = np.array([900 + y**2 * quadratic_coeff + np.random.randint(-50, high=51) for y in ploty])\n",
    "leftx = leftx[::-1]\n",
    "rightx = rightx[::-1]\n",
    "\n",
    "left_fit = np.polyfit(ploty, leftx, 2)\n",
    "right_fit = np.polyfit(ploty, rightx, 2)"
   ]
  },
  {
   "cell_type": "code",
   "execution_count": 13,
   "metadata": {},
   "outputs": [
    {
     "data": {
      "image/png": "[encoded data removed]",
      "text/plain": [
       "<Figure size 432x288 with 1 Axes>"
      ]
     },
     "metadata": {},
     "output_type": "display_data"
    }
   ],
   "source": [
    "# Fit a second order polynomial to pixel positions in each fake lane line\n",
    "left_fitx = left_fit[0] * ploty ** 2 + left_fit[1] * ploty + left_fit[2]\n",
    "right_fitx = right_fit[0] * ploty ** 2 + right_fit[1] * ploty + right_fit[2]\n",
    "\n",
    "# Plot up the fake data\n",
    "mark_size = 3\n",
    "plt.plot(leftx, ploty, 'o', color='red', markersize=mark_size)\n",
    "plt.plot(rightx, ploty, 'o', color='blue', markersize=mark_size)\n",
    "plt.xlim(0, 1280)\n",
    "plt.ylim(0, 720)\n",
    "plt.plot(left_fitx, ploty, color='green', linewidth=3)\n",
    "plt.plot(right_fitx, ploty, color='green', linewidth=3)\n",
    "plt.gca().invert_yaxis()"
   ]
  },
  {
   "cell_type": "code",
   "execution_count": 14,
   "metadata": {},
   "outputs": [],
   "source": [
    "def measure_curvature_pixels(ploty, left_fit, right_fit):\n",
    "    # Define y-value where I want radius of curvature\n",
    "    # I'll choose the maximum y-value, corresponding to the bottom of the image\n",
    "    y_eval = np.max(ploty)\n",
    "    \n",
    "    left_curverad = (1 + (2*left_fit[0]*y_eval+left_fit[1])**2)**1.5 / np.absolute(2*left_fit[0])\n",
    "    right_curverad = (1 + (2*right_fit[0]*y_eval+right_fit[1])**2)**1.5 / np.absolute(2*right_fit[0])\n",
    "    \n",
    "    return left_curverad, right_curverad"
   ]
  },
  {
   "cell_type": "code",
   "execution_count": 15,
   "metadata": {},
   "outputs": [],
   "source": [
    "def generate_data():\n",
    "    np.random.seed(0)\n",
    "    \n",
    "    ploty = np.linspace(0, 719, num=720)# to cover same y-range as image\n",
    "    quadratic_coeff = 3e-4 # arbitrary quadratic coefficient\n",
    "    \n",
    "    leftx = np.array([200 + (y**2)*quadratic_coeff + np.random.randint(-50, high=51) \n",
    "                                    for y in ploty])\n",
    "    rightx = np.array([900 + (y**2)*quadratic_coeff + np.random.randint(-50, high=51) \n",
    "                                    for y in ploty])\n",
    "\n",
    "    leftx = leftx[::-1]  # Reverse to match top-to-bottom in y\n",
    "    rightx = rightx[::-1]  # Reverse to match top-to-bottom in y\n",
    "\n",
    "    left_fit = np.polyfit(ploty, leftx, 2)\n",
    "    right_fit = np.polyfit(ploty, rightx, 2)\n",
    "    \n",
    "    return ploty, left_fit, right_fit"
   ]
  },
  {
   "cell_type": "code",
   "execution_count": 16,
   "metadata": {},
   "outputs": [
    {
     "name": "stdout",
     "output_type": "stream",
     "text": [
      "1625.0601831657232 1976.2967307714669\n"
     ]
    }
   ],
   "source": [
    "ploty, left_fit, right_fit = generate_data()\n",
    "left_curverad, right_curverad = measure_curvature_pixels(ploty, left_fit, right_fit)\n",
    "print(left_curverad, right_curverad)"
   ]
  },
  {
   "cell_type": "markdown",
   "metadata": {},
   "source": [
    "## Measuring Curvature 2\n",
    "### From Pixels to Real-World\n",
    "I've now calculated the radius of curvature for our lane lines. But I've calculated the radius of curvature based on pixel values, so the radius I am reporting is in pixel space, which is not the same as real world space. So we need actually need to repeat this calculation after converting our x and y values to real world space.\n",
    "\n",
    "This involves measuring how long and wide the section of lane is that I'm projecting in our warped image. I could do this in detail by measuring out the physica lane in the field of view of the camera, but for this project, I can assume that if I'm projecting a section of lane similar to the images above, the lane is about 30 meters long and 3.7 meters wide. Or if I prefer to derive a conversion from pixel space to world space in my own images, compare my images with U.S. regulations that require a minimum lane width of 12 feet or 3.7 meters, and the dashed lane lines are 10 feet or 3 meters long each.\n",
    "\n",
    "Let's say that our camera image has 720 relevant pixels in the y-dimension (remenber, my image is perspective-transformed!), and I'll say roughly 700 relevant pixels in the x-dimension (my example of fake generated data above used from 200 pixels on the left to 900 on the right, or 700). Therefore, to convert from pixels to real-world meter measurements, we can use:\n",
    "\n",
    "    ym_per_pix = 30/720  <= meters per pixel in y dimension\n",
    "    xm_per_pix = 3.7/700 <= meters per pixel in x dimension"
   ]
  },
  {
   "cell_type": "code",
   "execution_count": 17,
   "metadata": {},
   "outputs": [],
   "source": [
    "import numpy as np\n",
    "\n",
    "def generate_data(ym_per_pix, xm_per_pix):\n",
    "    np.random.seed(0)\n",
    "    \n",
    "    ploty = np.linspace(0, 719, num=720)\n",
    "    quadratic_coeff = 3e-4\n",
    "    \n",
    "    plotx_left = np.array([200 + (y**2) * quadratic_coeff + np.random.randint(-50, high=51) for y in ploty])\n",
    "    plotx_right = np.array([900 + (y**2) * quadratic_coeff + np.random.randint(-50, high=51) for y in ploty])\n",
    "    plotx_left = plotx_left[::-1]\n",
    "    plotx_right = plotx_right[::-1]\n",
    "    \n",
    "    # Fit new polynomials to x,y in world space\n",
    "    left_cr = np.polyfit(ploty * ym_per_pix, plotx_left * xm_per_pix, 2)\n",
    "    right_cr = np.polyfit(ploty * ym_per_pix, plotx_right * xm_per_pix, 2)\n",
    "    \n",
    "    return ploty, left_cr, right_cr\n",
    "\n",
    "def measure_curvature_real():\n",
    "    ym_per_pix = 30/720\n",
    "    xm_per_pix = 3.7/700\n",
    "    ploty, left_cr, right_cr = generate_data(ym_per_pix, xm_per_pix)\n",
    "\n",
    "    y_eval = np.max(ploty)\n",
    "    \n",
    "    left_curvarad = ((1 + (2*left_cr[0]*y_eval*ym_per_pix + left_cr[1])**2)**1.5) / np.absolute(2*left_cr[0])\n",
    "    right_curvarad = ((1 + (2*right_cr[0]*y_eval*ym_per_pix + right_cr[1])**2)**1.5) / np.absolute(2*right_cr[0])\n",
    "    \n",
    "    return left_curvarad, right_curvarad"
   ]
  },
  {
   "cell_type": "code",
   "execution_count": 18,
   "metadata": {},
   "outputs": [
    {
     "name": "stdout",
     "output_type": "stream",
     "text": [
      "533.7525889210931 m 648.1574851434265 m\n"
     ]
    }
   ],
   "source": [
    "left_curvarad, right_curvarad = measure_curvature_real()\n",
    "print(left_curvarad, 'm', right_curvarad, 'm')"
   ]
  },
  {
   "cell_type": "code",
   "execution_count": null,
   "metadata": {},
   "outputs": [],
   "source": []
  }
 ],
 "metadata": {
  "kernelspec": {
   "display_name": "Python 3",
   "language": "python",
   "name": "python3"
  },
  "language_info": {
   "codemirror_mode": {
    "name": "ipython",
    "version": 3
   },
   "file_extension": ".py",
   "mimetype": "text/x-python",
   "name": "python",
   "nbconvert_exporter": "python",
   "pygments_lexer": "ipython3",
   "version": "3.6.5"
  }
 },
 "nbformat": 4,
 "nbformat_minor": 2
}
