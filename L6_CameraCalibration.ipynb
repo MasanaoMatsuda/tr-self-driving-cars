{
 "cells": [
  {
   "cell_type": "markdown",
   "metadata": {},
   "source": [
    "# Perseption\n",
    "It's very important for robotics perception.Robotics can be broken down into three essential step cycle.\n",
    "    Perception >> Dicision >> Action\n",
    "This notebook related with Perception.For the task of perception we can use data from some kind of sensors like Lidor, Razor and Camera.\n",
    "\n",
    "        Sensor    ||    Spartial Resolution    |    Dimension    |    Cost\n",
    "    Lidor + Razor ||           Low             |       3D        |  Expensive\n",
    "        Camera    ||           High            |       2D        |    Cheap"
   ]
  },
  {
   "cell_type": "markdown",
   "metadata": {},
   "source": [
    "### Computer Vision\n",
    "Computer vision is art and science to percieving and understanding the world around us through images.In self driving cars it helps us to detect lane marking, other cars and pedestrians and so on to navigate safely our cars."
   ]
  },
  {
   "cell_type": "markdown",
   "metadata": {},
   "source": [
    "## Finding Corners"
   ]
  },
  {
   "cell_type": "markdown",
   "metadata": {},
   "source": [
    "## Correcting for Distortion"
   ]
  },
  {
   "cell_type": "markdown",
   "metadata": {},
   "source": [
    "## Perspective Transform"
   ]
  },
  {
   "cell_type": "code",
   "execution_count": null,
   "metadata": {},
   "outputs": [],
   "source": []
  }
 ],
 "metadata": {
  "kernelspec": {
   "display_name": "Python 3",
   "language": "python",
   "name": "python3"
  },
  "language_info": {
   "codemirror_mode": {
    "name": "ipython",
    "version": 3
   },
   "file_extension": ".py",
   "mimetype": "text/x-python",
   "name": "python",
   "nbconvert_exporter": "python",
   "pygments_lexer": "ipython3",
   "version": "3.7.0"
  }
 },
 "nbformat": 4,
 "nbformat_minor": 2
}
