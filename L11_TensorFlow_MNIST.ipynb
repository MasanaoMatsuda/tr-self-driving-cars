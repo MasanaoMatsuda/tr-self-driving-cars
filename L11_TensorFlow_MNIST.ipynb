{
 "cells": [
  {
   "cell_type": "code",
   "execution_count": null,
   "metadata": {},
   "outputs": [],
   "source": [
    "import tensorflow as tf\n",
    "import numpy as np\n",
    "import math"
   ]
  },
  {
   "cell_type": "code",
   "execution_count": null,
   "metadata": {},
   "outputs": [],
   "source": [
    "# Helper function\n",
    "def batches(batch_size, features, labels):\n",
    "    assert len(features) == len(labels)\n",
    "    \n",
    "    output_batches = []\n",
    "    for start_i in range(0, len(features), batch_size):\n",
    "        end_i = start_i + batch_size\n",
    "        batch = [features[start_i: end_i], labels[start_i: end_i]]\n",
    "        output_batches.append(batch)\n",
    "        \n",
    "    return output_batches\n",
    "\n",
    "def encode_onehot(labels, n_class):\n",
    "    onehot_labels = np.zeros((len(labels), n_class))\n",
    "    for label, onehot_label in zip(labels, onehot_labels):\n",
    "        onehot_label[label-1] = 1\n",
    "    return onehot_labels"
   ]
  },
  {
   "cell_type": "code",
   "execution_count": null,
   "metadata": {},
   "outputs": [],
   "source": [
    "n_input = 784  # MNIST data input (28x28) <= num of nodes in input layer\n",
    "n_classes = 10 # MNIST total classes 0-9 digits <= num of nodes in output layer"
   ]
  },
  {
   "cell_type": "code",
   "execution_count": null,
   "metadata": {},
   "outputs": [],
   "source": [
    "# Load MNIST data sets\n",
    "mnist = tf.keras.datasets.mnist\n",
    "\n",
    "(train_features, train_labels), (test_features, test_labels) = mnist.load_data()\n",
    "\n",
    "train_features = train_features/255.0\n",
    "test_features = test_features/255.0\n",
    "\n",
    "train_features = np.reshape(train_features, (len(train_features), n_input))\n",
    "test_features = np.reshape(test_features, (len(test_features), n_input))\n",
    "\n",
    "train_labels = encode_onehot(train_labels, n_classes)\n",
    "test_labels = encode_onehot(test_labels, n_classes)"
   ]
  },
  {
   "cell_type": "code",
   "execution_count": null,
   "metadata": {},
   "outputs": [],
   "source": [
    "# construct the single layer neural network\n",
    "features = tf.placeholder(tf.float32, [None, n_input])\n",
    "labels = tf.placeholder(tf.float32, [None, n_classes])\n",
    "\n",
    "w1 = tf.Variable(tf.random_normal([n_input, n_classes]))\n",
    "b1 = tf.Variable(tf.random_normal([n_classes]))\n",
    "\n",
    "logits = tf.add(tf.matmul(features, w1), b1)\n",
    "\n",
    "learning_rate = tf.placeholder(tf.float32)\n",
    "cost = tf.reduce_mean(tf.nn.softmax_cross_entropy_with_logits_v2(logits=logits, labels=labels))\n",
    "optimizer = tf.train.GradientDescentOptimizer(learning_rate=learning_rate).minimize(cost)\n",
    "\n",
    "# calculate accuracy\n",
    "correct_prediction = tf.equal(tf.argmax(logits, 1), tf.argmax(labels, 1))\n",
    "accuracy = tf.reduce_mean(tf.cast(correct_prediction, tf.float32))"
   ]
  },
  {
   "cell_type": "code",
   "execution_count": null,
   "metadata": {},
   "outputs": [],
   "source": [
    "batch_size = 128\n",
    "epochs = 80\n",
    "lr = 0.001\n",
    "\n",
    "init = tf.global_variables_initializer()\n",
    "with tf.Session() as sess:\n",
    "    sess.run(init)\n",
    "    \n",
    "    for i in range(epochs):\n",
    "        for bat_features, bat_labels in batches(batch_size, train_features, train_labels):\n",
    "            train_feed_dict = {\n",
    "                features: bat_features,\n",
    "                labels: bat_labels, \n",
    "                learning_rate: lr}\n",
    "            sess.run(optimizer, feed_dict=train_feed_dict)\n",
    "        \n",
    "    test_accuracy = sess.run(\n",
    "        accuracy,\n",
    "        feed_dict={features: test_features, labels: test_labels})\n",
    "    \n",
    "print('Test Accuracy: {}'.format(test_accuracy))"
   ]
  },
  {
   "cell_type": "code",
   "execution_count": null,
   "metadata": {},
   "outputs": [],
   "source": [
    "#from tensorflow.python.client import device_lib\n",
    "#device_lib.list_local_devices()"
   ]
  }
 ],
 "metadata": {
  "kernelspec": {
   "display_name": "Python 3",
   "language": "python",
   "name": "python3"
  },
  "language_info": {
   "codemirror_mode": {
    "name": "ipython",
    "version": 3
   },
   "file_extension": ".py",
   "mimetype": "text/x-python",
   "name": "python",
   "nbconvert_exporter": "python",
   "pygments_lexer": "ipython3",
   "version": "3.7.3"
  }
 },
 "nbformat": 4,
 "nbformat_minor": 2
}
