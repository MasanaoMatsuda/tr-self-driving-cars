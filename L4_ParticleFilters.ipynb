{
 "cells": [
  {
   "cell_type": "markdown",
   "metadata": {},
   "source": [
    "# Particle Filters"
   ]
  },
  {
   "cell_type": "markdown",
   "metadata": {},
   "source": [
    "### Moving Robot"
   ]
  },
  {
   "cell_type": "code",
   "execution_count": 1,
   "metadata": {},
   "outputs": [],
   "source": [
    "class Map:\n",
    "    def __init__(self, world_size, landmarks):\n",
    "        self.world_size = world_size\n",
    "        self.landmarks = landmarks"
   ]
  },
  {
   "cell_type": "code",
   "execution_count": 2,
   "metadata": {},
   "outputs": [],
   "source": [
    "from math import *\n",
    "import random\n",
    "\n",
    "class Robot:\n",
    "    def __init__(self, world_size):\n",
    "        self.x = random.random()\n",
    "        self.y = random.random()\n",
    "        self.orientation = random.random() * 2.0 * pi\n",
    "        self.forward_noise = 0.0\n",
    "        self.turn_noise = 0.0\n",
    "        self.sense_noise = 0.0\n",
    "        \n",
    "    def set(self, new_x, new_y, new_orientation, world_size):\n",
    "        if new_x < 0 or new_x >= world_size:\n",
    "            raise (ValueError, 'X coordinate out of bound')\n",
    "        if new_y < 0 or new_y >= world_size:\n",
    "            raise (ValueError, 'Y coordinate out of bound')\n",
    "        if new_orientation < 0 or new_orientation >= 2 * pi:\n",
    "            raise (ValueError, 'Orientation must be in [0..2pi]')\n",
    "        \n",
    "        self.x = float(new_x)\n",
    "        self.y = float(new_y)\n",
    "        self.orientation = float(new_orientation)\n",
    "        \n",
    "    def set_noise(self, new_f_noise, new_t_noise, new_s_noise):\n",
    "        self.forward_noise = float(new_f_noise)\n",
    "        self.turn_noise = float(new_t_noise)\n",
    "        self.sense_noise = float(new_s_noise)\n",
    "        \n",
    "    def sense(self, landmarks):\n",
    "        Z = []\n",
    "        for i in range(len(landmarks)):\n",
    "            dist = sqrt((self.x - landmarks[i][0]) ** 2 + (self.y - landmarks[i][1]) ** 2)\n",
    "            dist += random.gauss(0.0, self.sense_noise)\n",
    "            Z.append(dist)\n",
    "        return Z\n",
    "    \n",
    "    def move(self, turn, forward, world_size):\n",
    "        if forward < 0:\n",
    "            raise (ValueError, 'Robot cant move backwards')\n",
    "            \n",
    "        orientation = self.orientation + float(turn) + random.gauss(0.0, self.turn_noise)\n",
    "        orientation %= 2 * pi\n",
    "        \n",
    "        dist = float(forward) + random.gauss(0.0, self.forward_noise)\n",
    "        x = self.x + (cos(orientation) * dist)\n",
    "        y = self.y + (sin(orientation) * dist)\n",
    "        x %= world_size\n",
    "        y %= world_size\n",
    "        self.set(x, y, orientation, world_size)\n",
    "    \n",
    "    def Gaussian(self, mu, sigma, x):\n",
    "        return exp(-(mu - x) ** 2) / (sigma ** 2 / 2.0) / sqrt(2.0 * pi * (sigma ** 2))\n",
    "    \n",
    "    def measurement_prob(self, measurement, landmarks):\n",
    "        prob = 1.0\n",
    "        for i in range(len(landmarks)):\n",
    "            dist = sqrt((self.x - landmarks[i][0]) ** 2 + (self.y - landmarks[i][1]) ** 2)\n",
    "            prob *= self.Gaussian(dist, self.sense_noise, measurement[i])\n",
    "        return prob\n",
    "    \n",
    "    def __repr__(self):\n",
    "        return '[x=%.6s y=%.6s orient=%.6s]' % (str(self.x), str(self.y), str(self.orientation))"
   ]
  },
  {
   "cell_type": "code",
   "execution_count": 3,
   "metadata": {},
   "outputs": [],
   "source": [
    "def eval(r, p):\n",
    "    sum = 0.0\n",
    "    for i in range(len(p)):\n",
    "        dx = (p[i].x - r.x + world_size/2.0) % world_size - (world_size / 2.0)\n",
    "        dy = (p[i].y - r.y + world_size/2.0) % world_size - (world_size / 2.0)\n",
    "        err = sqrt(dx * dx + dy * dy)\n",
    "        sum += err\n",
    "    return sum / float(len(p))"
   ]
  },
  {
   "cell_type": "code",
   "execution_count": 4,
   "metadata": {},
   "outputs": [],
   "source": [
    "landmarks  = [[20.0, 20.0], [80.0, 80.0], [20.0, 80.0], [80.0, 20.0]]\n",
    "world_size = 100.0\n",
    "gmap = Map(world_size, landmarks)"
   ]
  },
  {
   "cell_type": "code",
   "execution_count": 5,
   "metadata": {},
   "outputs": [
    {
     "name": "stdout",
     "output_type": "stream",
     "text": [
      "[39.05124837953327, 46.09772228646444, 39.05124837953327, 46.09772228646444]\n",
      "[32.01562118716424, 53.150729063673246, 47.16990566028302, 40.311288741492746]\n"
     ]
    }
   ],
   "source": [
    "robot = Robot(gmap.world_size)\n",
    "robot.set(30.0, 50.0, (pi/2), gmap.world_size)\n",
    "robot.move(-(pi/2), 15, gmap.world_size)\n",
    "print(robot.sense(gmap.landmarks))\n",
    "\n",
    "robot.move(-(pi/2), 10, gmap.world_size)\n",
    "print(robot.sense(gmap.landmarks))"
   ]
  },
  {
   "cell_type": "markdown",
   "metadata": {},
   "source": [
    "### Importance Weight"
   ]
  },
  {
   "cell_type": "code",
   "execution_count": 41,
   "metadata": {},
   "outputs": [
    {
     "name": "stdout",
     "output_type": "stream",
     "text": [
      "Actual distance(between Robot and Landmarks):\n",
      " [109.02085173438357, 24.190596410250123, 79.59786951454012, 78.3256678000277] \n",
      "\n",
      "Robot position:\n",
      " [x=97.921 y=96.247 orient=4.0802] \n",
      "\n"
     ]
    }
   ],
   "source": [
    "robot = Robot(gmap.world_size);\n",
    "robot.move(0.1, 5.0, gmap.world_size)\n",
    "Z = robot.sense(gmap.landmarks)\n",
    "print(\"Actual distance(between Robot and Landmarks):\\n\", Z, \"\\n\")\n",
    "print(\"Robot position:\\n\", robot, \"\\n\")\n",
    "\n",
    "N = 1000\n",
    "particles = []\n",
    "for i in range(N):\n",
    "    p = Robot(gmap.world_size)\n",
    "    p.set_noise(0.05, 0.05, 5.0)\n",
    "    particles.append(p)\n",
    "    \n",
    "p2 = []\n",
    "for p in particles:\n",
    "    p.move(0.1, 5.0, gmap.world_size)\n",
    "    p2.append(p)    \n",
    "particles = p2\n",
    "\n",
    "importance_weights = []\n",
    "for p in particles:\n",
    "    importance_weights.append(p.measurement_prob(Z, gmap.landmarks));\n",
    "\n",
    "importance_weights_n = []\n",
    "sigma = sum(importance_weights)\n",
    "for weight in importance_weights:\n",
    "    importance_weights_n.append(weight / sigma);"
   ]
  },
  {
   "cell_type": "markdown",
   "metadata": {},
   "source": [
    "### Resampling"
   ]
  },
  {
   "cell_type": "code",
   "execution_count": 45,
   "metadata": {},
   "outputs": [
    {
     "name": "stdout",
     "output_type": "stream",
     "text": [
      "Position of Particles which represent the prediction of Robot position:\n",
      "[x=96.857 y=97.174 orient=3.7892]\n",
      "[x=98.631 y=95.784 orient=4.4331]\n",
      "[x=98.041 y=96.162 orient=4.1946]\n",
      "[x=98.041 y=96.162 orient=4.1946]\n",
      "[x=98.041 y=96.162 orient=4.1946]\n",
      "[x=97.459 y=96.734 orient=4.0368]\n",
      "[x=97.898 y=96.465 orient=4.1108]\n",
      "[x=97.202 y=96.574 orient=4.0231]\n",
      "[x=97.481 y=96.204 orient=4.0608]\n",
      "[x=97.165 y=96.783 orient=3.9145]\n"
     ]
    }
   ],
   "source": [
    "p3 = []\n",
    "idx = int(random.random() * N)\n",
    "beta = 0.0\n",
    "w_max = max(importance_weights_n)\n",
    "\n",
    "for i in range(N):\n",
    "    beta += random.random() * 2.0 * w_max\n",
    "    while importance_weights_n[idx] < beta:\n",
    "        beta -= importance_weights_n[idx]\n",
    "        idx = (idx + 1) % N\n",
    "    p3.append(particles[idx])\n",
    "particles = p3\n",
    "\n",
    "print(\"Position of Particles which represent the prediction of Robot position:\")\n",
    "for i in range(10):\n",
    "    print(particles[i])"
   ]
  },
  {
   "cell_type": "code",
   "execution_count": null,
   "metadata": {},
   "outputs": [],
   "source": [
    "class ParticleFilter:\n",
    "    def __init__(self, gmap):\n",
    "        self.gmap = gmap\n",
    "        \n",
    "    def get_importance_weight(self):\n",
    "        w = []\n",
    "        return w"
   ]
  },
  {
   "cell_type": "code",
   "execution_count": null,
   "metadata": {},
   "outputs": [],
   "source": []
  }
 ],
 "metadata": {
  "kernelspec": {
   "display_name": "Python 3",
   "language": "python",
   "name": "python3"
  },
  "language_info": {
   "codemirror_mode": {
    "name": "ipython",
    "version": 3
   },
   "file_extension": ".py",
   "mimetype": "text/x-python",
   "name": "python",
   "nbconvert_exporter": "python",
   "pygments_lexer": "ipython3",
   "version": "3.6.5"
  }
 },
 "nbformat": 4,
 "nbformat_minor": 2
}
