{
 "cells": [
  {
   "cell_type": "markdown",
   "metadata": {},
   "source": [
    "# Particle Filters"
   ]
  },
  {
   "cell_type": "code",
   "execution_count": 2,
   "metadata": {},
   "outputs": [],
   "source": [
    "class Map:\n",
    "    def __init__(self, world_size, landmarks):\n",
    "        self.world_size = world_size\n",
    "        self.landmarks = landmarks"
   ]
  },
  {
   "cell_type": "code",
   "execution_count": 3,
   "metadata": {},
   "outputs": [],
   "source": [
    "from math import *\n",
    "import random\n",
    "\n",
    "class Robot:\n",
    "    def __init__(self, world_size):\n",
    "        self.x = random.random() * world_size\n",
    "        self.y = random.random() * world_size\n",
    "        self.orientation = random.random() * 2.0 * pi\n",
    "        self.forward_noise = 0.0\n",
    "        self.turn_noise = 0.0\n",
    "        self.sense_noise = 0.0\n",
    "        \n",
    "    def set(self, new_x, new_y, new_orientation, world_size):\n",
    "        if new_x < 0 or new_x >= world_size:\n",
    "            raise (ValueError, 'X coordinate out of bound')\n",
    "        if new_y < 0 or new_y >= world_size:\n",
    "            raise (ValueError, 'Y coordinate out of bound')\n",
    "        if new_orientation < 0 or new_orientation >= 2 * pi:\n",
    "            raise (ValueError, 'Orientation must be in [0..2pi]')\n",
    "        \n",
    "        self.x = float(new_x)\n",
    "        self.y = float(new_y)\n",
    "        self.orientation = float(new_orientation)\n",
    "        \n",
    "    def set_noise(self, new_f_noise, new_t_noise, new_s_noise):\n",
    "        self.forward_noise = float(new_f_noise)\n",
    "        self.turn_noise = float(new_t_noise)\n",
    "        self.sense_noise = float(new_s_noise)\n",
    "        \n",
    "    def sense(self, landmarks):\n",
    "        Z = []\n",
    "        for i in range(len(landmarks)):\n",
    "            dist = sqrt((self.x - landmarks[i][0]) ** 2 + (self.y - landmarks[i][1]) ** 2)\n",
    "            dist += random.gauss(0.0, self.sense_noise)\n",
    "            Z.append(dist)\n",
    "        return Z\n",
    "    \n",
    "    def move(self, turn, forward, world_size):\n",
    "        if forward < 0:\n",
    "            raise (ValueError, 'Robot cant move backwards')\n",
    "            \n",
    "        orientation = self.orientation + float(turn) + random.gauss(0.0, self.turn_noise)\n",
    "        orientation %= 2 * pi\n",
    "        \n",
    "        dist = float(forward) + random.gauss(0.0, self.forward_noise)\n",
    "        x = self.x + (cos(orientation) * dist)\n",
    "        y = self.y + (sin(orientation) * dist)\n",
    "        x %= world_size\n",
    "        y %= world_size\n",
    "        self.set(x, y, orientation, world_size)\n",
    "    \n",
    "    def Gaussian(self, mu, sigma, x):\n",
    "        return exp(- ((mu - x) ** 2) / (sigma ** 2) / 2.0) / sqrt(2.0 * pi * (sigma ** 2))    \n",
    "    \n",
    "    def measurement_prob(self, measurement, landmarks):\n",
    "        prob = 1.0;\n",
    "        for i in range(len(landmarks)):\n",
    "            dist = sqrt((self.x - landmarks[i][0]) ** 2 + (self.y - landmarks[i][1]) ** 2)\n",
    "            prob *= self.Gaussian(dist, self.sense_noise, measurement[i])\n",
    "        return prob\n",
    "    \n",
    "    def __repr__(self):\n",
    "        return '[x=%.6s y=%.6s orient=%.6s]' % (str(self.x), str(self.y), str(self.orientation))"
   ]
  },
  {
   "cell_type": "code",
   "execution_count": 14,
   "metadata": {},
   "outputs": [],
   "source": [
    "import random\n",
    "\n",
    "class ParticleFilter:\n",
    "    def __init__(self, gmap, num_particle):\n",
    "        self.gmap = gmap\n",
    "        self.N = num_particle\n",
    "        \n",
    "    def initialize_particles(self, new_f_noise, new_t_noise, new_s_noise):\n",
    "        particles = []\n",
    "        for i in range(self.N):\n",
    "            p = Robot(self.gmap.world_size)\n",
    "            p.set_noise(new_f_noise, new_t_noise, new_s_noise)\n",
    "            particles.append(p)\n",
    "        return particles\n",
    "        \n",
    "    def move_praticles(self, particles, turn, forward):\n",
    "        moved_p = []\n",
    "        for p in particles:\n",
    "            p.move(turn, forward, self.gmap.world_size)\n",
    "            moved_p.append(p)\n",
    "        return moved_p\n",
    "        \n",
    "    def get_importance_weights(self, measurement, particles):\n",
    "        weights = []\n",
    "        for p in particles:\n",
    "            weights.append(p.measurement_prob(measurement, gmap.landmarks))\n",
    "            \n",
    "        sigma = sum(weights)\n",
    "        print(sigma)\n",
    "        return weights\n",
    "    \n",
    "    def resampe_particles(self, particles, weights):\n",
    "        resampled_p = []\n",
    "        idx = int(random.random() * self.N)\n",
    "        beta = 0.0\n",
    "        w_max = max(weights)\n",
    "        \n",
    "        for i in range(self.N):\n",
    "            beta += random.random() * 2.0 * w_max\n",
    "            while weights[idx] < beta:\n",
    "                beta -= weights[idx]\n",
    "                idx = (idx + 1) % self.N\n",
    "            resampled_p.append(particles[idx])\n",
    "        return resampled_p"
   ]
  },
  {
   "cell_type": "code",
   "execution_count": 15,
   "metadata": {},
   "outputs": [],
   "source": [
    "def eval(r, p):\n",
    "    sum = 0.0\n",
    "    for i in range(len(p)):\n",
    "        dx = (p[i].x - r.x + world_size/2.0) % world_size - (world_size / 2.0)\n",
    "        dy = (p[i].y - r.y + world_size/2.0) % world_size - (world_size / 2.0)\n",
    "        err = sqrt(dx * dx + dy * dy)\n",
    "        sum += err\n",
    "    return sum / float(len(p))"
   ]
  },
  {
   "cell_type": "code",
   "execution_count": 16,
   "metadata": {},
   "outputs": [],
   "source": [
    "landmarks  = [[20.0, 20.0], [80.0, 80.0], [20.0, 80.0], [80.0, 20.0]]\n",
    "world_size = 100.0\n",
    "gmap = Map(world_size, landmarks)"
   ]
  },
  {
   "cell_type": "code",
   "execution_count": 18,
   "metadata": {
    "scrolled": true
   },
   "outputs": [
    {
     "name": "stdout",
     "output_type": "stream",
     "text": [
      "0.000420794488933016\n",
      "+++++++++++++++++++\n",
      "0.00010123913320973617\n",
      "+++++++++++++++++++\n",
      "5.672407934083237e-12\n",
      "+++++++++++++++++++\n",
      "3.8890826962864475e-32\n",
      "+++++++++++++++++++\n",
      "5.2770540238451134e-14\n",
      "+++++++++++++++++++\n",
      "4.94140531230577e-13\n",
      "+++++++++++++++++++\n",
      "3.847532062350424e-49\n",
      "+++++++++++++++++++\n",
      "2.0431723085684807e-40\n",
      "+++++++++++++++++++\n",
      "3.5482812169434416e-64\n",
      "+++++++++++++++++++\n",
      "2.2401252629722485e-40\n",
      "+++++++++++++++++++\n"
     ]
    }
   ],
   "source": [
    "robot = Robot(gmap.world_size)\n",
    "robot.move(0.1, 5.0, gmap.world_size)\n",
    "Z = robot.sense(gmap.landmarks)\n",
    "#print(\"Actual distance(between Robot and Landmarks):\\n\", Z, \"\\n\")\n",
    "#print(\"Robot position:\\n\", robot, \"\\n\")\n",
    "\n",
    "pf = ParticleFilter(gmap, 1000)\n",
    "particles = pf.initialize_particles(0.05, 0.05, 5.0)\n",
    "\n",
    "T = 10\n",
    "for t in range(T):\n",
    "    robot.move(0.1, 5.0, gmap.world_size)\n",
    "    Z = robot.sense(gmap.landmarks)\n",
    "    #print(\"Actual distance(between Robot and Landmarks):\\n\", Z, \"\\n\")\n",
    "    #print(\"Robot position:\\n\", robot, \"\\n\")\n",
    "    particles = pf.move_praticles(particles, 0.1, 5.0)\n",
    "    weights = pf.get_importance_weights(Z, particles)\n",
    "    particles = pf.resampe_particles(particles, weights)\n",
    "    #for i in range(1000):\n",
    "    #    print(particles[i], \" - \", weights[i])\n",
    "    print(\"+++++++++++++++++++\")\n",
    "    \n",
    "#print(\"Position of Particles which represent the prediction of Robot position:\")\n",
    "#for i in range(10):\n",
    "#    print(particles[i])"
   ]
  },
  {
   "cell_type": "code",
   "execution_count": null,
   "metadata": {},
   "outputs": [],
   "source": []
  },
  {
   "cell_type": "code",
   "execution_count": null,
   "metadata": {},
   "outputs": [],
   "source": []
  },
  {
   "cell_type": "code",
   "execution_count": null,
   "metadata": {},
   "outputs": [],
   "source": []
  }
 ],
 "metadata": {
  "kernelspec": {
   "display_name": "Python 3",
   "language": "python",
   "name": "python3"
  },
  "language_info": {
   "codemirror_mode": {
    "name": "ipython",
    "version": 3
   },
   "file_extension": ".py",
   "mimetype": "text/x-python",
   "name": "python",
   "nbconvert_exporter": "python",
   "pygments_lexer": "ipython3",
   "version": "3.6.5"
  }
 },
 "nbformat": 4,
 "nbformat_minor": 2
}
